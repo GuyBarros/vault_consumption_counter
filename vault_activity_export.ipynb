{
 "cells": [
  {
   "cell_type": "code",
   "execution_count": null,
   "metadata": {},
   "outputs": [],
   "source": [
    "pip install pandas requests yaspin"
   ]
  },
  {
   "cell_type": "code",
   "execution_count": null,
   "metadata": {},
   "outputs": [],
   "source": [
    "import requests\n",
    "import pandas as pd\n",
    "import os\n",
    "import json\n",
    "%env VAULT_ADDR=http://localhost:8200  "
   ]
  },
  {
   "cell_type": "code",
   "execution_count": null,
   "metadata": {},
   "outputs": [],
   "source": [
    "def fetch_data_from_api():\n",
    "    # Get the Vault token from the specified file\n",
    "    with open(os.path.expanduser(\"~/.vault-token\"), 'r') as file:\n",
    "        vault_token = file.read().strip()\n",
    "\n",
    "    # Set the Vault address\n",
    "    vault_addr = os.getenv('VAULT_ADDR')\n",
    "    if not vault_addr:\n",
    "        raise ValueError(\"VAULT_ADDR environment variable is not set.\")\n",
    "\n",
    "    # Define the API URL with the required parameters\n",
    "    start_time = \"2022-12-31T00:00:00Z\"\n",
    "    end_time = \"2024-04-30T23:59:59Z\"\n",
    "    # api_url = f\"{vault_addr}/v1/sys/internal/counters/activity/export?start_time={start_time}&end_time={end_time}\"\n",
    "    api_url = f\"{vault_addr}/v1/sys/internal/counters/activity/export\"\n",
    "    # Set the headers including the Vault token\n",
    "    headers = {\n",
    "        \"X-Vault-Token\": vault_token\n",
    "    }\n",
    "\n",
    "    # Make the GET request to the API\n",
    "    response = requests.get(api_url, headers=headers)\n",
    "\n",
    "    # Check if the request was successful\n",
    "    if response.status_code == 200:\n",
    "        # Load the JSON response into a pandas DataFrame\n",
    "        # data = response.text\n",
    "        # data2 = f\" [ {data.replace(\"\\n\", \",\").rstrip(',')} ]\"\n",
    "        # data3 = json.loads(data2)\n",
    "        data3 = json.loads(f\" [ {response.text.replace(\"\\n\", \",\").rstrip(',')} ]\")\n",
    "        #data = response.json()\n",
    "        print(data3)\n",
    "        df = pd.DataFrame(data3)\n",
    "        return df\n",
    "    else:\n",
    "        # Print the error message if the request failed\n",
    "        raise Exception(f\"Failed to fetch data: {response.status_code} - {response.text}\")\n"
   ]
  },
  {
   "cell_type": "code",
   "execution_count": null,
   "metadata": {},
   "outputs": [],
   "source": [
    "# Fetch data and load it into a DataFrame\n",
    "df = fetch_data_from_api()\n",
    "\n",
    "# Display the first few rows of the DataFrame\n",
    "print(df.head())"
   ]
  }
 ],
 "metadata": {
  "kernelspec": {
   "display_name": "Python 3",
   "language": "python",
   "name": "python3"
  },
  "language_info": {
   "codemirror_mode": {
    "name": "ipython",
    "version": 3
   },
   "file_extension": ".py",
   "mimetype": "text/x-python",
   "name": "python",
   "nbconvert_exporter": "python",
   "pygments_lexer": "ipython3",
   "version": "3.12.3"
  }
 },
 "nbformat": 4,
 "nbformat_minor": 2
}
