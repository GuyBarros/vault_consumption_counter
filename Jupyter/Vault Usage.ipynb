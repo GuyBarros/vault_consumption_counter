{
 "cells": [
  {
   "cell_type": "code",
   "execution_count": null,
   "metadata": {},
   "outputs": [],
   "source": [
    "pip install pandas requests yaspin"
   ]
  },
  {
   "cell_type": "code",
   "execution_count": null,
   "metadata": {},
   "outputs": [],
   "source": [
    "import requests\n",
    "import pandas as pd\n",
    "import os\n",
    "import json\n",
    "from datetime import datetime"
   ]
  },
  {
   "cell_type": "code",
   "execution_count": null,
   "metadata": {},
   "outputs": [],
   "source": [
    "%env VAULT_ADDR=\n",
    "%env VAULT_NAMESPACE=\n",
    "%env VAULT_TOKEN="
   ]
  },
  {
   "cell_type": "code",
   "execution_count": null,
   "metadata": {},
   "outputs": [],
   "source": [
    "# Define the API URL with the required parameters\n",
    "start_time = \"2022-12-31T00:00:00Z\"\n",
    "end_time = \"2024-04-30T23:59:59Z\""
   ]
  },
  {
   "cell_type": "code",
   "execution_count": null,
   "metadata": {},
   "outputs": [],
   "source": [
    "# Set the Vault TOKEN\n",
    "vault_token = os.getenv('VAULT_TOKEN')\n",
    "if not vault_token:\n",
    "    raise ValueError(\"VAULT_TOKEN environment variable is not set.\")\n",
    "\n",
    "    # Set the Vault address\n",
    "vault_addr = os.getenv('VAULT_ADDR')\n",
    "if not vault_addr:\n",
    "    raise ValueError(\"VAULT_ADDR environment variable is not set.\")\n",
    "\n",
    "vault_namespace = os.getenv('VAULT_NAMESPACE')\n",
    "print(vault_namespace)\n",
    "\n",
    "\n",
    "# Set the headers including the Vault token\n",
    "headers = {\n",
    "    \"X-Vault-Token\": vault_token\n",
    "}\n",
    "# change header if using a namespace (needed for HCP Vault)\n",
    "\n",
    "# Function to convert timestamp to human-readable format\n",
    "def convert_timestamp(timestamp):\n",
    "    return datetime.fromtimestamp(timestamp).strftime('%Y-%m-%d %H:%M:%S')\n",
    "# Define the function to fetch data from the API and load it into a pandas DataFrame\n",
    "def fetch_activities_from_vault():\n",
    "    api_url = f\"{vault_addr}/v1/sys/internal/counters/activity/export?start_time={start_time}&end_time={end_time}\"\n",
    "    # Make the GET request to the API\n",
    "    response = requests.get(api_url, headers=headers)\n",
    "    # Check if the request was successful\n",
    "    if response.status_code == 200:\n",
    "        # Load the JSON response into a pandas DataFrame\n",
    "        data = json.loads(f\" [ {response.text.replace(\"\\n\", \",\").rstrip(',')} ]\")\n",
    "        for activity in data:\n",
    "            activity['client_id'] = entity_alias_from_list(activity['client_id'],activity['mount_accessor'])\n",
    "            #activity['client_id'] = entity_alias_from_list(\"505f84c9-02dc-391b-3794-b4baf0a9b688\",\"auth_oidc_363d78c8\")\n",
    "            activity['timestamp'] = convert_timestamp(activity['timestamp'])\n",
    "        return data\n",
    "    else:\n",
    "        # Print the error message if the request failed\n",
    "        raise Exception(f\"Failed to fetch Activities: {response.status_code} - {response.text}\")\n",
    "def fetch_all_entities_from_vault():\n",
    "    api_url = f\"{vault_addr}/v1/identity/entity/id\"\n",
    "    # Make the GET request to the API\n",
    "    response = requests.request('LIST',api_url, headers=headers)\n",
    "    # Check if the request was successful\n",
    "    if response.status_code == 200:\n",
    "        # Load the JSON response into a pandas DataFrame\n",
    "        data = response.json()['data']['key_info']\n",
    "        return data\n",
    "    else:\n",
    "        # Print the error message if the request failed\n",
    "        raise Exception(f\"Failed to fetch All Entities: {response.status_code} - {response.text}\")\n",
    "\n",
    "def entity_alias_from_list(client_id,mount_accessor):\n",
    "    if not (entities.get(client_id) is None):\n",
    "     data = entities.get(client_id) ['aliases']\n",
    "     name = client_id\n",
    "     #find the alias for the correct mount path\n",
    "     for item in data:\n",
    "        if item['mount_accessor'] == mount_accessor:\n",
    "            name = item['name']\n",
    "     return name\n",
    "    else:\n",
    "        return client_id"
   ]
  },
  {
   "cell_type": "code",
   "execution_count": null,
   "metadata": {},
   "outputs": [],
   "source": [
    "# Get a list of all Entities to minimize API calls\n",
    "entities = fetch_all_entities_from_vault()\n",
    "\n",
    "#Get the Activities from Vault\n",
    "df = pd.DataFrame(fetch_activities_from_vault())\n",
    "# Display the first few rows of the DataFrame\n",
    "print(df.head())\n"
   ]
  }
 ],
 "metadata": {
  "kernelspec": {
   "display_name": "Python 3 (ipykernel)",
   "language": "python",
   "name": "python3"
  },
  "language_info": {
   "codemirror_mode": {
    "name": "ipython",
    "version": 3
   },
   "file_extension": ".py",
   "mimetype": "text/x-python",
   "name": "python",
   "nbconvert_exporter": "python",
   "pygments_lexer": "ipython3",
   "version": "3.12.6"
  }
 },
 "nbformat": 4,
 "nbformat_minor": 4
}
